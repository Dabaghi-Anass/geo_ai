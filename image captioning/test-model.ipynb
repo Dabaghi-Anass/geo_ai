{
 "cells": [
  {
   "cell_type": "code",
   "execution_count": 13,
   "id": "0e0d2fa4",
   "metadata": {},
   "outputs": [],
   "source": [
    "# !pip install transformers\n"
   ]
  },
  {
   "cell_type": "code",
   "execution_count": 14,
   "id": "ce8d60bf",
   "metadata": {},
   "outputs": [],
   "source": [
    "import torch\n",
    "from transformers import VisionEncoderDecoderModel, ViTImageProcessor, AutoTokenizer\n",
    "from PIL import Image\n",
    "import torchvision.transforms as transforms\n"
   ]
  },
  {
   "cell_type": "code",
   "execution_count": null,
   "id": "a6e7d6b4",
   "metadata": {},
   "outputs": [],
   "source": [
    "\n",
    "# model_path = \"kaggle/working/satellite-caption-model\"  # Change if needed\n",
    "model_path = \"nlpconnect/vit-gpt2-image-captioning\"\n",
    "model = VisionEncoderDecoderModel.from_pretrained(model_path)\n",
    "processor = ViTImageProcessor.from_pretrained(model_path)\n",
    "tokenizer = AutoTokenizer.from_pretrained(model_path)\n",
    "tokenizer.pad_token = \"[PAD]\"\n",
    "tokenizer.add_tokens([\"[PAD]\"])\n",
    "model.config.pad_token_id = tokenizer.convert_tokens_to_ids(\"[PAD]\")\n",
    "\n"
   ]
  },
  {
   "cell_type": "code",
   "execution_count": 16,
   "id": "7ef3582c",
   "metadata": {},
   "outputs": [],
   "source": [
    "\n",
    "\n",
    "# Image pre-processing transform\n",
    "transform = transforms.Compose([\n",
    "    transforms.Resize((224, 224)),\n",
    "    transforms.ToTensor(),\n",
    "    transforms.Normalize(mean=processor.image_mean, std=processor.image_std)\n",
    "])\n",
    "\n",
    "# Load and process test image\n",
    "def load_image(image_path):\n",
    "    image = Image.open(image_path).convert(\"RGB\")\n",
    "    pixel_values = transform(image).unsqueeze(0)\n",
    "    return pixel_values\n",
    "\n",
    "# Caption generation\n",
    "def generate_caption(image_path):\n",
    "    pixel_values = load_image(image_path)\n",
    "\n",
    "    # Create attention mask: 1 for actual data, 0 for padding (none here, but required)\n",
    "    attention_mask = torch.ones(pixel_values.shape[:2], dtype=torch.long)  # shape: (batch_size, num_pixels)\n",
    "\n",
    "    with torch.no_grad():\n",
    "        output_ids = model.generate(\n",
    "            pixel_values,\n",
    "            max_length=64,\n",
    "            do_sample=True,\n",
    "            top_k=50,\n",
    "            top_p=0.95,\n",
    "            attention_mask=attention_mask  # from previous fix\n",
    "        )\n",
    "    caption = tokenizer.decode(output_ids[0], skip_special_tokens=True)\n",
    "    return caption\n"
   ]
  },
  {
   "cell_type": "code",
   "execution_count": 18,
   "id": "444b04bf",
   "metadata": {},
   "outputs": [
    {
     "name": "stdout",
     "output_type": "stream",
     "text": [
      "Generated Caption: vintage cars line up on a street \n"
     ]
    }
   ],
   "source": [
    "\n",
    "# Example usage\n",
    "test_image_path = \"./parking_255.jpg\"  # Replace with your actual test image path\n",
    "caption = generate_caption(test_image_path)\n",
    "print(\"Generated Caption:\", caption)\n"
   ]
  }
 ],
 "metadata": {
  "kernelspec": {
   "display_name": "base",
   "language": "python",
   "name": "python3"
  },
  "language_info": {
   "codemirror_mode": {
    "name": "ipython",
    "version": 3
   },
   "file_extension": ".py",
   "mimetype": "text/x-python",
   "name": "python",
   "nbconvert_exporter": "python",
   "pygments_lexer": "ipython3",
   "version": "3.12.7"
  }
 },
 "nbformat": 4,
 "nbformat_minor": 5
}
